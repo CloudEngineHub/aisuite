{
 "cells": [
  {
   "cell_type": "markdown",
   "id": "5a7a0ca2",
   "metadata": {},
   "source": [
    "# ASR Example\n",
    "\n",
    "Audio Speech Recognition with aisuite's unified API.\n"
   ]
  },
  {
   "cell_type": "code",
   "execution_count": null,
   "id": "d72f8c18",
   "metadata": {},
   "outputs": [],
   "source": [
    "import aisuite as ai\n",
    "from dotenv import load_dotenv\n",
    "\n",
    "load_dotenv()\n",
    "client = ai.Client()\n",
    "audio_file = \"speech.mp3\"\n"
   ]
  },
  {
   "cell_type": "code",
   "execution_count": null,
   "id": "8ed7f8de",
   "metadata": {},
   "outputs": [],
   "source": [
    "# Basic transcription\n",
    "result = client.audio.transcriptions.create(\n",
    "    model=\"openai:whisper-1\",\n",
    "    file=audio_file\n",
    ")\n",
    "print(result.text)\n"
   ]
  },
  {
   "cell_type": "code",
   "execution_count": null,
   "id": "71ecf40a",
   "metadata": {},
   "outputs": [],
   "source": [
    "# With timestamps\n",
    "result = client.audio.transcriptions.create(\n",
    "    model=\"openai:whisper-1\",\n",
    "    file=audio_file,\n",
    "    response_format=\"verbose_json\",\n",
    "    timestamp_granularities=[\"word\"]\n",
    ")\n",
    "\n",
    "print(f\"Text: {result.text}\")\n",
    "print(f\"Words: {len(result.words)}\")\n",
    "for word in result.words[:3]:\n",
    "    print(f\"{word.word}: {word.start:.1f}s-{word.end:.1f}s\")\n"
   ]
  }
 ],
 "metadata": {
  "kernelspec": {
   "display_name": ".venv",
   "language": "python",
   "name": "python3"
  },
  "language_info": {
   "codemirror_mode": {
    "name": "ipython",
    "version": 3
   },
   "file_extension": ".py",
   "mimetype": "text/x-python",
   "name": "python",
   "nbconvert_exporter": "python",
   "pygments_lexer": "ipython3",
   "version": "3.10.13"
  }
 },
 "nbformat": 4,
 "nbformat_minor": 5
}
